{
 "cells": [
  {
   "cell_type": "markdown",
   "id": "8a96bc29-4996-435e-8b25-627ddbad18ec",
   "metadata": {},
   "source": [
    "## Import Library"
   ]
  },
  {
   "cell_type": "code",
   "execution_count": null,
   "id": "47fa9533-e911-4531-a8ed-7fd346dcc8e2",
   "metadata": {},
   "outputs": [],
   "source": [
    "import numpy as np\n",
    "import pandas as pd \n",
    "import matplotlib.pyplot as plt\n",
    "from sklearn.model_selection import train_test_split\n",
    "\n",
    "import tensorflow as tf\n",
    "import keras\n",
    "from keras.models import Sequential\n",
    "from keras.layers import Dense, Dropout, Flatten, Conv2D, MaxPooling2D\n",
    "from keras.layers import Input\n",
    "from keras.models import Model\n",
    "from keras.layers import Concatenate\n",
    "from tensorflow.keras import layers, optimizers, datasets\n",
    "from keras_preprocessing.image import ImageDataGenerator\n",
    "\n",
    "import os\n",
    "import cv2\n",
    "from sklearn import preprocessing\n",
    "from pathlib import Path\n",
    "import splitfolders\n",
    "\n",
    "import shutil"
   ]
  },
  {
   "cell_type": "markdown",
   "id": "78c0f4db-d419-4e8d-95be-74252e754229",
   "metadata": {},
   "source": [
    "## Data Collecting"
   ]
  },
  {
   "cell_type": "markdown",
   "id": "cfec33df-72e5-4164-9e3d-d7a3262e9340",
   "metadata": {},
   "source": [
    "### Membuat data Validation dari data train & test"
   ]
  },
  {
   "cell_type": "code",
   "execution_count": 2,
   "id": "4112c9ed-d5d1-445a-aa02-9a82dda4e1ef",
   "metadata": {},
   "outputs": [],
   "source": [
    "srcPath = 'fingers/train/' \n",
    "destPath = 'fingers/validation/' \n",
    "files = os.listdir(srcPath)\n",
    "\n",
    "for file in files[:1800]:\n",
    "    shutil.move(srcPath + file, destPath + file)"
   ]
  },
  {
   "cell_type": "code",
   "execution_count": null,
   "id": "0c02cdc8-e6a0-4a53-ad61-ae191ab9729c",
   "metadata": {},
   "outputs": [],
   "source": [
    "srcPath1 = 'fingers/test/' \n",
    "destPath1 = 'fingers/validation/' \n",
    "files1 = os.listdir(srcPath1)\n",
    "\n",
    "for file1 in files1[:1800]:\n",
    "    shutil.move(srcPath1 + file1, destPath1 + file1)"
   ]
  },
  {
   "cell_type": "markdown",
   "id": "cd708629-757f-4af2-b2e4-b4fe10262049",
   "metadata": {},
   "source": [
    "## Reading Data "
   ]
  },
  {
   "cell_type": "code",
   "execution_count": null,
   "id": "f870f591-bfa7-4f90-a3c3-00b7fdbf7adf",
   "metadata": {},
   "outputs": [
    {
     "name": "stdout",
     "output_type": "stream",
     "text": [
      "Jumlah Gambar Data Train:  16200\n",
      "6 Label Pertama:  ['1L', '0L', '5L', '1R', '0R', '4L']\n"
     ]
    }
   ],
   "source": [
    "# Membaca Data Train Gambar\n",
    "train_path = []\n",
    "label_train = []\n",
    "\n",
    "path_train = \"fingers/train/\"\n",
    "\n",
    "for filename in os.listdir(path_train):\n",
    "    \n",
    "    train_path.append(path_train+filename)\n",
    "    whole_label = filename.split('_')[1]\n",
    "    useful_label = whole_label.split('.')[0]\n",
    "    label_train.append(useful_label)\n",
    "\n",
    "print(\"Jumlah Gambar Data Train: \", len(train_path))\n",
    "print(\"6 Label Pertama: \", label_train[:6])\n",
    "\n",
    "\n",
    "dims_train = []  \n",
    "# membaca data gambar test data\n",
    "for path in train_path:\n",
    "    \n",
    "    image = cv2.imread(path)           \n",
    "    dims_train.append(image)\n",
    "    \n",
    "dims_train = np.array(dims_train)\n",
    "print(\"Bentuk Dimensi Data train: \", dims_train.shape)"
   ]
  },
  {
   "cell_type": "code",
   "execution_count": null,
   "id": "0af94121-d930-42fa-b586-a7c6864a3005",
   "metadata": {},
   "outputs": [],
   "source": [
    "# Membaca Data Test Gambar \n",
    "test_path = []\n",
    "label_test = []\n",
    "\n",
    "path_test = \"fingers/test/\"\n",
    "\n",
    "for filename in os.listdir(path_test):\n",
    "    \n",
    "    test_path.append(path_test+filename)\n",
    "    whole_label = filename.split('_')[1]\n",
    "    useful_label = whole_label.split('.')[0]\n",
    "    label_test.append(useful_label)\n",
    "\n",
    "print(\"Jumlah Gambar Data Test: \", len(test_path))\n",
    "print(\"6 Label Pertama: \", label_test[:6])\n",
    "\n",
    "\n",
    "\n",
    "dims_test = []  \n",
    "# membaca data gambar test data\n",
    "for path in test_path:\n",
    "    \n",
    "    image = cv2.imread(path)           \n",
    "    dims_test.append(image)\n",
    "    \n",
    "dims_test = np.array(dims_test)\n",
    "print(\"Bentuk Dimensi Data test: \", dims_test.shape)\n"
   ]
  },
  {
   "cell_type": "code",
   "execution_count": null,
   "id": "267595cd-41ee-45b4-aab4-5162e54081b7",
   "metadata": {},
   "outputs": [],
   "source": [
    "# Membaca Data Validation Gambar \n",
    "val_path = []\n",
    "label_val = []\n",
    "\n",
    "path_val = \"fingers/validation/\"\n",
    "\n",
    "for filename in os.listdir(path_val):\n",
    "    \n",
    "    val_path.append(path_val+filename)\n",
    "    whole_label = filename.split('_')[1]\n",
    "    useful_label = whole_label.split('.')[0]\n",
    "    label_val.append(useful_label)\n",
    "\n",
    "print(\"Jumlah Gambar Data Validation: \", len(val_path))\n",
    "print(\"6 Label Pertama: \", label_val[:6])\n",
    "\n",
    "dims_val = []  \n",
    "# membaca data gambar test data\n",
    "for path in val_path:\n",
    "    \n",
    "    image = cv2.imread(path)           \n",
    "    dims_val.append(image)\n",
    "    \n",
    "dims_val = np.array(dims_val)\n",
    "print(\"Bentuk Dimensi Data train: \", dims_val.shape)"
   ]
  },
  {
   "cell_type": "markdown",
   "id": "027085c4-bee7-42f3-ba6d-4a35153b46a9",
   "metadata": {},
   "source": [
    "## Visualisasi Dataset "
   ]
  },
  {
   "cell_type": "markdown",
   "id": "4cd4c5f5",
   "metadata": {},
   "source": [
    "### Memeriksa gambar pertama milik folder data train yg di clean "
   ]
  },
  {
   "cell_type": "code",
   "execution_count": null,
   "id": "d181d1a6-3b84-46ed-8d43-39067f9e444d",
   "metadata": {},
   "outputs": [],
   "source": [
    "train_path[0]"
   ]
  },
  {
   "cell_type": "code",
   "execution_count": null,
   "id": "9ae5ed61-0185-4558-9cc3-aa4d0aa71cc8",
   "metadata": {},
   "outputs": [],
   "source": [
    "image = cv2.imread(train_path[0]) \n",
    "\n",
    "plt.imshow(image)\n",
    "plt.title(label_train[0], fontsize = 20)\n",
    "plt.axis('on')\n",
    "plt.show()"
   ]
  },
  {
   "cell_type": "markdown",
   "id": "9d5c46f7",
   "metadata": {},
   "source": [
    "### Memeriksa gambar milik folder data test"
   ]
  },
  {
   "cell_type": "code",
   "execution_count": null,
   "id": "6734c373-5f90-406a-8af7-21ddb9ecfa7d",
   "metadata": {},
   "outputs": [],
   "source": [
    "test_path[100]"
   ]
  },
  {
   "cell_type": "code",
   "execution_count": null,
   "id": "41537cad-dd14-48f2-8c12-492e866b1fba",
   "metadata": {},
   "outputs": [],
   "source": [
    "image = cv2.imread(test_path[100]) \n",
    "\n",
    "plt.imshow(image)\n",
    "plt.title(label_test[100], fontsize = 20)\n",
    "plt.axis('on')\n",
    "plt.show()"
   ]
  },
  {
   "cell_type": "markdown",
   "id": "7fc01c85",
   "metadata": {},
   "source": [
    "### Contoh gambar milik data validation"
   ]
  },
  {
   "cell_type": "code",
   "execution_count": null,
   "id": "aee6ec77-0efd-4ea5-9e64-1a97c0c67f8b",
   "metadata": {},
   "outputs": [],
   "source": [
    "val_path[200]"
   ]
  },
  {
   "cell_type": "code",
   "execution_count": null,
   "id": "9044b1ec-aded-4fd5-81a7-b0d2316c2796",
   "metadata": {},
   "outputs": [],
   "source": [
    "image = cv2.imread(val_path[200]) \n",
    "\n",
    "plt.imshow(image)\n",
    "plt.title(label_val[200], fontsize = 20)\n",
    "plt.axis('on')\n",
    "plt.show()"
   ]
  },
  {
   "cell_type": "markdown",
   "id": "3af6c452",
   "metadata": {},
   "source": [
    "### Visualisasi Data Sample Train"
   ]
  },
  {
   "cell_type": "code",
   "execution_count": null,
   "id": "8f67697b-163a-43ff-92e8-fd5ea6218c8d",
   "metadata": {},
   "outputs": [],
   "source": [
    "fig, axs= plt.subplots(2,5, figsize=[24,12])\n",
    "\n",
    "count=0\n",
    "for i in range(2):    \n",
    "    for j in range(5):  \n",
    "        \n",
    "        img = cv2.imread(train_path[count])\n",
    "    \n",
    "        axs[i][j].imshow(img)\n",
    "        axs[i][j].axis('off')\n",
    "\n",
    "        count+=1\n",
    "        \n",
    "plt.suptitle(\"Data Sample\", fontsize = 24)        \n",
    "plt.show()"
   ]
  },
  {
   "cell_type": "markdown",
   "id": "df7c3747-884c-4fd8-be1a-5cf698575dbc",
   "metadata": {},
   "source": [
    "## Augmentasi (Data Preprocessing)"
   ]
  },
  {
   "cell_type": "markdown",
   "id": "83557673",
   "metadata": {},
   "source": [
    "### Menyimpan dataset yang akan digunakan"
   ]
  },
  {
   "cell_type": "code",
   "execution_count": null,
   "id": "3f08198e",
   "metadata": {},
   "outputs": [],
   "source": [
    "train = os.listdir('fingers/train/')\n",
    "test = os.listdir('fingers/test/')\n",
    "val = os.listdir('fingers/validation/')\n",
    "\n",
    "all_train = ['fingers/train/' + i for i in train]\n",
    "all_test = ['fingers/test/' + i for i in test]\n",
    "all_val = ['fingers/validation/' + i for i in val]"
   ]
  },
  {
   "cell_type": "code",
   "execution_count": null,
   "id": "9e458b80",
   "metadata": {},
   "outputs": [],
   "source": [
    "train_df = pd.DataFrame(all_train, columns=['Filepath'])\n",
    "test_df = pd.DataFrame(all_test, columns=['Filepath'])\n",
    "val_df = pd.DataFrame(all_val, columns=['Filepath'])\n",
    "\n",
    "train_df.head()"
   ]
  },
  {
   "cell_type": "code",
   "execution_count": null,
   "id": "255aa29d",
   "metadata": {},
   "outputs": [],
   "source": [
    "train_df['Label'] = train_df['Filepath'].apply(lambda a: a[-6:-4])\n",
    "test_df['Label'] = test_df['Filepath'].apply(lambda a: a[-6:-4])\n",
    "val_df['Label'] = val_df['Filepath'].apply(lambda a: a[-6:-4])\n",
    "\n",
    "train_df.head()"
   ]
  },
  {
   "cell_type": "markdown",
   "id": "1baf49ce",
   "metadata": {},
   "source": [
    "### Membuat datagen untuk mendeklarasikan ImageDataGenerator"
   ]
  },
  {
   "cell_type": "code",
   "execution_count": null,
   "id": "2b4d5d29",
   "metadata": {},
   "outputs": [],
   "source": [
    "train_datagen = ImageDataGenerator(\n",
    "    rescale = 1./255,\n",
    "    rotation_range=30,\n",
    "    shear_range=.2,\n",
    "    zoom_range=.2,\n",
    ")\n",
    "\n",
    "val_datagen = ImageDataGenerator(\n",
    "    rescale=1./255,\n",
    "    rotation_range=30,\n",
    "    shear_range=.2,\n",
    "    zoom_range=.2,\n",
    ")\n",
    "\n",
    "test_datagen = ImageDataGenerator(\n",
    "    rescale=1./255\n",
    ")"
   ]
  },
  {
   "cell_type": "markdown",
   "id": "c54b9995",
   "metadata": {},
   "source": [
    "### Kemudian ambil dataset melalui datagen yang telah dibuat"
   ]
  },
  {
   "cell_type": "code",
   "execution_count": null,
   "id": "cebff63d",
   "metadata": {},
   "outputs": [],
   "source": [
    "train_generator = train_datagen.flow_from_dataframe(\n",
    "    dataframe=train_df,\n",
    "    x_col='Filepath',\n",
    "    y_col='Label',\n",
    "    target_size=(50, 50),\n",
    "    shuffle=True,\n",
    "    batch_size=4,\n",
    "    class_mode='categorical'\n",
    ")\n",
    "\n",
    "test_generator = test_datagen.flow_from_dataframe(\n",
    "    dataframe=test_df,\n",
    "    x_col='Filepath',\n",
    "    y_col='Label',\n",
    "    target_size=(50, 50),\n",
    "    shuffle=True,\n",
    "    batch_size=2,\n",
    "    class_mode='categorical'\n",
    ")\n",
    "\n",
    "val_generator = val_datagen.flow_from_dataframe(\n",
    "    dataframe=val_df,\n",
    "    x_col='Filepath',\n",
    "    y_col='Label',\n",
    "    target_size=(50, 50),\n",
    "    shuffle=True,\n",
    "    batch_size=2,\n",
    "    class_mode='categorical'\n",
    ")"
   ]
  },
  {
   "cell_type": "code",
   "execution_count": null,
   "id": "aea0c86f",
   "metadata": {},
   "outputs": [],
   "source": [
    "image, label = train_generator.next()"
   ]
  },
  {
   "cell_type": "code",
   "execution_count": null,
   "id": "6474b49d-8100-4497-b7a3-58fc9e18e54a",
   "metadata": {
    "scrolled": true,
    "tags": []
   },
   "outputs": [],
   "source": [
    "print(image)\n",
    "print(label)"
   ]
  },
  {
   "cell_type": "markdown",
   "id": "b32425be-be01-43af-aafc-9113ee37eca7",
   "metadata": {},
   "source": [
    "### Visualisasi Data Gambar Augmentasi"
   ]
  },
  {
   "cell_type": "code",
   "execution_count": null,
   "id": "5a791cf4",
   "metadata": {},
   "outputs": [],
   "source": [
    "labels = [\n",
    "    '0L', '0R', '1L', '1R', '2L', '2R', '3L', '3R', '4L', '4R', '5L', '5R',\n",
    "]"
   ]
  },
  {
   "cell_type": "code",
   "execution_count": null,
   "id": "dd432efe-8357-471f-81f2-b772081f28d2",
   "metadata": {},
   "outputs": [],
   "source": [
    "len(image)"
   ]
  },
  {
   "cell_type": "code",
   "execution_count": null,
   "id": "e578f8a1-9773-41fc-a655-0267acfe74b0",
   "metadata": {},
   "outputs": [],
   "source": [
    "data = 2\n",
    "plt.imshow(image[data])\n",
    "plt.title(labels[tf.argmax(label[data])])\n",
    "plt.show()"
   ]
  },
  {
   "cell_type": "markdown",
   "id": "0d4690c0-0023-472b-b030-5409e0762589",
   "metadata": {},
   "source": [
    "### Normalisasi Data Test"
   ]
  },
  {
   "cell_type": "code",
   "execution_count": null,
   "id": "b1b927ac-e9e3-4ef7-89aa-a6d277906f9a",
   "metadata": {},
   "outputs": [],
   "source": [
    "\n",
    "X_test = []\n",
    "\n",
    "\n",
    "    \n",
    "# membaca data gambar test data\n",
    "for path in test_path:\n",
    "    \n",
    "    image = cv2.imread(path)        \n",
    "    image =  cv2.resize(image, (50,50))    \n",
    "    X_test.append(image)\n",
    "    \n",
    "\n",
    "\n",
    "\n",
    "X_test = np.array(X_test)"
   ]
  },
  {
   "cell_type": "markdown",
   "id": "6a6df383",
   "metadata": {},
   "source": [
    "### Menampilkan dimensi data Test Normalisasi"
   ]
  },
  {
   "cell_type": "code",
   "execution_count": null,
   "id": "cfdf2b75-4cca-482f-b506-918bb8024d6f",
   "metadata": {
    "tags": []
   },
   "outputs": [],
   "source": [
    "\n",
    "print(\"Bentuk X_test: \", X_test.shape)\n"
   ]
  },
  {
   "cell_type": "markdown",
   "id": "a468180a-bbcd-402c-8584-9c36e74b4d99",
   "metadata": {},
   "source": [
    "### Encoding Data Test "
   ]
  },
  {
   "cell_type": "code",
   "execution_count": null,
   "id": "d9884ef2-ecb3-4cd4-ac26-696dd8cc1a7e",
   "metadata": {},
   "outputs": [],
   "source": [
    "# Encoding Label dan menkonversi ke nilai kategorikal\n",
    "lable_encoder = preprocessing.LabelEncoder()\n",
    "y_test_temp = lable_encoder.fit_transform(label_test)\n",
    "\n",
    "print(\"Nilai Encoding test: \", y_test_temp)"
   ]
  },
  {
   "cell_type": "code",
   "execution_count": null,
   "id": "0f4b8ea2-e3a7-46b7-86ee-9e48e22f85ba",
   "metadata": {},
   "outputs": [],
   "source": [
    "# Encoding data menggunakan keras utils\n",
    "y_test = keras.utils.to_categorical(y_test_temp, 12)\n",
    "\n",
    "print(\"Nilia Ctegorical  y_test:\", y_test, \"\\n\")"
   ]
  },
  {
   "cell_type": "markdown",
   "id": "5bf29d56",
   "metadata": {},
   "source": [
    "## Model"
   ]
  },
  {
   "cell_type": "markdown",
   "id": "d920abc6-62d4-48f8-8bef-71ed003fc3a3",
   "metadata": {},
   "source": [
    "### Membuat Sequential Model"
   ]
  },
  {
   "cell_type": "code",
   "execution_count": null,
   "id": "8d510650",
   "metadata": {},
   "outputs": [],
   "source": [
    "model = tf.keras.Sequential([\n",
    "    tf.keras.layers.Conv2D(128, (3, 3), padding='same', input_shape=(50, 50, 3), activation=\"relu\"),\n",
    "    tf.keras.layers.MaxPooling2D(2,2),\n",
    "    tf.keras.layers.Conv2D(128, (3, 3), activation=\"relu\"),\n",
    "    tf.keras.layers.MaxPooling2D(2,2),\n",
    "    \n",
    "    tf.keras.layers.Conv2D(128, (3, 3), padding='same', activation=\"relu\"),\n",
    "    tf.keras.layers.MaxPooling2D(pool_size=(2, 2)),\n",
    "    \n",
    "    tf.keras.layers.Flatten(),\n",
    "    tf.keras.layers.Dense(128, activation='relu'),\n",
    "    # tf.keras.layers.Dropout(0.5),\n",
    "    \n",
    "    tf.keras.layers.Dense(12, activation='softmax')\n",
    "])"
   ]
  },
  {
   "cell_type": "markdown",
   "id": "825751d0",
   "metadata": {},
   "source": [
    "### Mengcompile model"
   ]
  },
  {
   "cell_type": "code",
   "execution_count": null,
   "id": "0e8ab131",
   "metadata": {},
   "outputs": [],
   "source": [
    "model.compile(\n",
    "    loss='categorical_crossentropy',\n",
    "    optimizer=\"adam\",\n",
    "    metrics=['accuracy']\n",
    ")\n",
    "\n",
    "model.summary()"
   ]
  },
  {
   "cell_type": "markdown",
   "id": "07c5cafd",
   "metadata": {},
   "source": [
    "### Model fitting"
   ]
  },
  {
   "cell_type": "code",
   "execution_count": null,
   "id": "df6c414c-0fa3-4f39-8597-5ed0bc494ee8",
   "metadata": {},
   "outputs": [],
   "source": [
    "earlyStopping = tf.keras.callbacks.EarlyStopping(\n",
    "    monitor = 'val_accuracy',\n",
    "    patience=5,\n",
    ")"
   ]
  },
  {
   "cell_type": "code",
   "execution_count": null,
   "id": "0d5f990e-bb98-4f91-9e78-fd0b5a57a4e2",
   "metadata": {},
   "outputs": [],
   "source": [
    "history = model.fit(\n",
    "    train_generator,\n",
    "    # batch_size=128,\n",
    "    epochs=10,\n",
    "    # shuffle=True,\n",
    "    validation_data=val_generator,\n",
    "    verbose =1,\n",
    "    callbacks=[earlyStopping]\n",
    "    # (X_val, y_val)\n",
    ")"
   ]
  },
  {
   "cell_type": "markdown",
   "id": "21f1dab2",
   "metadata": {},
   "source": [
    "### Visualisasi Model"
   ]
  },
  {
   "cell_type": "code",
   "execution_count": null,
   "id": "26fe583e-61f4-48ec-83fe-176f8b0c1b5e",
   "metadata": {},
   "outputs": [],
   "source": [
    "y_acc_train = history.history['accuracy']\n",
    "y_acc_val = history.history['val_accuracy']\n",
    "\n",
    "\n",
    "y_loss_train =history.history['loss']\n",
    "y_loss_val =history.history['val_loss']\n",
    "\n",
    "x_=range(len(y_acc_train))"
   ]
  },
  {
   "cell_type": "code",
   "execution_count": null,
   "id": "76b3a928-bfde-4aab-bb0d-037da5084ef0",
   "metadata": {},
   "outputs": [],
   "source": [
    "plt.figure(1, figsize=(5,4))\n",
    "plt.plot(x_, y_acc_train, c='r',label='Training')\n",
    "plt.plot(x_, y_acc_val, c='b',label='Validation')\n",
    "plt.title('akurasi')\n",
    "plt.xlabel('Epochs')\n",
    "plt.ylabel('Akurasi')\n",
    "plt.legend()\n",
    "\n",
    "\n",
    "plt.figure(2, figsize=(5,4))\n",
    "plt.plot(x_[5:], y_loss_train[5:], c='r',label='Training')\n",
    "plt.plot(x_[5:], y_loss_val[5:], c='b',label='Validation')\n",
    "plt.title('loss')\n",
    "plt.xlabel('Epochs')\n",
    "plt.ylabel('Akurasi')\n",
    "plt.legend()\n",
    "plt.show()"
   ]
  },
  {
   "cell_type": "markdown",
   "id": "2454fddb",
   "metadata": {},
   "source": [
    "### Evaluasi"
   ]
  },
  {
   "cell_type": "code",
   "execution_count": null,
   "id": "59a12540-e964-46c3-8c32-a6a1ff02512f",
   "metadata": {},
   "outputs": [],
   "source": [
    "model.evaluate(test_generator)"
   ]
  },
  {
   "cell_type": "markdown",
   "id": "5a446e7b",
   "metadata": {},
   "source": [
    "### Menyimpan hasil prediksi"
   ]
  },
  {
   "cell_type": "code",
   "execution_count": null,
   "id": "2e41b836-a8e2-46d9-8d69-99d2ec651fb0",
   "metadata": {},
   "outputs": [],
   "source": [
    "pred = model.predict(X_test)\n",
    "print(pred)"
   ]
  },
  {
   "cell_type": "code",
   "execution_count": null,
   "id": "24175372-b850-4413-bb1d-9271f7ac1216",
   "metadata": {},
   "outputs": [],
   "source": [
    "model.save('D:\\semester 5\\Praktikum KB\\PA_KB\\PA_KB_3_A1')"
   ]
  },
  {
   "cell_type": "markdown",
   "id": "3c67190d",
   "metadata": {},
   "source": [
    "### Labelling gambar hasil prediksi"
   ]
  },
  {
   "cell_type": "code",
   "execution_count": null,
   "id": "65b2c3a3-78c3-488c-82bd-5e0a9746300e",
   "metadata": {},
   "outputs": [],
   "source": [
    "fig, axs= plt.subplots(2,5, figsize=[24,12])\n",
    "\n",
    "\n",
    "count=0\n",
    "for i in range(2):    \n",
    "    for j in range(5):  \n",
    "        \n",
    "        img = cv2.imread(test_path[count])\n",
    "        \n",
    "        results = np.argsort(pred[count])[::-1]\n",
    "      \n",
    "        labels = lable_encoder.inverse_transform(results) #label prediksi\n",
    "        \n",
    "        ActualLabel = np.argsort(y_test[count])[::-1]\n",
    "        Aclabels = lable_encoder.inverse_transform(ActualLabel)#label prediksi\n",
    "        \n",
    "        axs[i][j].imshow(img)\n",
    "        axs[i][j].set_title(f\"Aktual Label :{Aclabels[0]}, Prediksi Label : {labels[0]}\",fontsize = 11)\n",
    "        axs[i][j].axis('off')\n",
    "\n",
    "        count+=1\n",
    "        \n",
    "plt.suptitle(\"Hasil Prediksi\", fontsize = 24)        \n",
    "plt.show()"
   ]
  },
  {
   "cell_type": "code",
   "execution_count": null,
   "id": "a091094b",
   "metadata": {},
   "outputs": [],
   "source": []
  }
 ],
 "metadata": {
  "kernelspec": {
   "display_name": "Python 3 (ipykernel)",
   "language": "python",
   "name": "python3"
  },
  "language_info": {
   "codemirror_mode": {
    "name": "ipython",
    "version": 3
   },
   "file_extension": ".py",
   "mimetype": "text/x-python",
   "name": "python",
   "nbconvert_exporter": "python",
   "pygments_lexer": "ipython3",
   "version": "3.10.7"
  },
  "vscode": {
   "interpreter": {
    "hash": "0e55d9de0354c0534e8dcf64d75e3cb705577b547eef00f41d41e19c90edd0c8"
   }
  }
 },
 "nbformat": 4,
 "nbformat_minor": 5
}
